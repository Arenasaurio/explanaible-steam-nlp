{
 "cells": [
  {
   "cell_type": "code",
   "id": "initial_id",
   "metadata": {
    "collapsed": true,
    "ExecuteTime": {
     "end_time": "2025-10-23T22:03:53.942421Z",
     "start_time": "2025-10-23T22:03:53.593153Z"
    }
   },
   "source": [
    "import polars as pl\n",
    "import numpy as np\n",
    "import matplotlib.pyplot as plt\n"
   ],
   "outputs": [],
   "execution_count": 17
  },
  {
   "metadata": {
    "ExecuteTime": {
     "end_time": "2025-10-23T21:41:57.404499Z",
     "start_time": "2025-10-23T21:41:55.622215Z"
    }
   },
   "cell_type": "code",
   "source": "data = pl.read_csv(\"~/PycharmProjects/explanaible-steam-nlp/data/dataset.csv\")",
   "id": "8cc7ce9b0b137fe3",
   "outputs": [],
   "execution_count": 3
  },
  {
   "metadata": {
    "ExecuteTime": {
     "end_time": "2025-10-23T21:41:57.473568Z",
     "start_time": "2025-10-23T21:41:57.467879Z"
    }
   },
   "cell_type": "code",
   "source": "data.schema",
   "id": "488494e97b30b4a8",
   "outputs": [
    {
     "data": {
      "text/plain": [
       "Schema([('app_id', Int64),\n",
       "        ('app_name', String),\n",
       "        ('review_text', String),\n",
       "        ('review_score', Int64),\n",
       "        ('review_votes', Int64)])"
      ]
     },
     "execution_count": 4,
     "metadata": {},
     "output_type": "execute_result"
    }
   ],
   "execution_count": 4
  },
  {
   "metadata": {
    "ExecuteTime": {
     "end_time": "2025-10-23T21:41:57.856592Z",
     "start_time": "2025-10-23T21:41:57.528666Z"
    }
   },
   "cell_type": "code",
   "source": "data.describe()",
   "id": "928bccd61bc9f720",
   "outputs": [
    {
     "data": {
      "text/plain": [
       "shape: (9, 6)\n",
       "┌────────────┬───────────────┬───────────────────┬───────────────────┬──────────────┬──────────────┐\n",
       "│ statistic  ┆ app_id        ┆ app_name          ┆ review_text       ┆ review_score ┆ review_votes │\n",
       "│ ---        ┆ ---           ┆ ---               ┆ ---               ┆ ---          ┆ ---          │\n",
       "│ str        ┆ f64           ┆ str               ┆ str               ┆ f64          ┆ f64          │\n",
       "╞════════════╪═══════════════╪═══════════════════╪═══════════════════╪══════════════╪══════════════╡\n",
       "│ count      ┆ 6.417106e6    ┆ 6233872           ┆ 6409801           ┆ 6.417106e6   ┆ 6.417106e6   │\n",
       "│ null_count ┆ 0.0           ┆ 183234            ┆ 7305              ┆ 0.0          ┆ 0.0          │\n",
       "│ mean       ┆ 227469.499959 ┆ null              ┆ null              ┆ 0.639499     ┆ 0.147245     │\n",
       "│ std        ┆ 126045.06578  ┆ null              ┆ null              ┆ 0.768792     ┆ 0.35435      │\n",
       "│ min        ┆ 10.0          ┆ 神明的一天世界-Go ┆ \u0003I implore you to ┆ -1.0         ┆ 0.0          │\n",
       "│            ┆               ┆ d's One Day World ┆ get a little…     ┆              ┆              │\n",
       "│ 25%        ┆ 201810.0      ┆ null              ┆ null              ┆ 1.0          ┆ 0.0          │\n",
       "│ 50%        ┆ 239160.0      ┆ null              ┆ null              ┆ 1.0          ┆ 0.0          │\n",
       "│ 75%        ┆ 305620.0      ┆ null              ┆ null              ┆ 1.0          ┆ 0.0          │\n",
       "│ max        ┆ 565340.0      ┆ 拯救大魔王2       ┆ 󠀁󠀁󠀁󠀁󠀁                  ┆ 1.0          ┆ 1.0          │\n",
       "│            ┆               ┆ Rescue the Great  ┆                   ┆              ┆              │\n",
       "│            ┆               ┆ Demon …           ┆                   ┆              ┆              │\n",
       "└────────────┴───────────────┴───────────────────┴───────────────────┴──────────────┴──────────────┘"
      ],
      "text/html": [
       "<div><style>\n",
       ".dataframe > thead > tr,\n",
       ".dataframe > tbody > tr {\n",
       "  text-align: right;\n",
       "  white-space: pre-wrap;\n",
       "}\n",
       "</style>\n",
       "<small>shape: (9, 6)</small><table border=\"1\" class=\"dataframe\"><thead><tr><th>statistic</th><th>app_id</th><th>app_name</th><th>review_text</th><th>review_score</th><th>review_votes</th></tr><tr><td>str</td><td>f64</td><td>str</td><td>str</td><td>f64</td><td>f64</td></tr></thead><tbody><tr><td>&quot;count&quot;</td><td>6.417106e6</td><td>&quot;6233872&quot;</td><td>&quot;6409801&quot;</td><td>6.417106e6</td><td>6.417106e6</td></tr><tr><td>&quot;null_count&quot;</td><td>0.0</td><td>&quot;183234&quot;</td><td>&quot;7305&quot;</td><td>0.0</td><td>0.0</td></tr><tr><td>&quot;mean&quot;</td><td>227469.499959</td><td>null</td><td>null</td><td>0.639499</td><td>0.147245</td></tr><tr><td>&quot;std&quot;</td><td>126045.06578</td><td>null</td><td>null</td><td>0.768792</td><td>0.35435</td></tr><tr><td>&quot;min&quot;</td><td>10.0</td><td>&quot; 神明的一天世界-God&#x27;s One Day World&quot;</td><td>&quot;\u0003I implore you to get a little…</td><td>-1.0</td><td>0.0</td></tr><tr><td>&quot;25%&quot;</td><td>201810.0</td><td>null</td><td>null</td><td>1.0</td><td>0.0</td></tr><tr><td>&quot;50%&quot;</td><td>239160.0</td><td>null</td><td>null</td><td>1.0</td><td>0.0</td></tr><tr><td>&quot;75%&quot;</td><td>305620.0</td><td>null</td><td>null</td><td>1.0</td><td>0.0</td></tr><tr><td>&quot;max&quot;</td><td>565340.0</td><td>&quot;拯救大魔王2 Rescue the Great Demon …</td><td>&quot;󠀁󠀁󠀁󠀁󠀁&quot;</td><td>1.0</td><td>1.0</td></tr></tbody></table></div>"
      ]
     },
     "execution_count": 5,
     "metadata": {},
     "output_type": "execute_result"
    }
   ],
   "execution_count": 5
  },
  {
   "metadata": {},
   "cell_type": "markdown",
   "source": [
    "# Eliminar Nulos\n",
    "Eliminamos los nulos debido a que son las colummnas que contienen texto, es decir, no se pueden imputar de una manera sencilla para este analísis"
   ],
   "id": "163d0fd3582a8621"
  },
  {
   "metadata": {
    "ExecuteTime": {
     "end_time": "2025-10-23T21:41:58.378914Z",
     "start_time": "2025-10-23T21:41:57.955398Z"
    }
   },
   "cell_type": "code",
   "source": [
    "data = data.drop_nulls()\n",
    "data.describe()"
   ],
   "id": "dc6a13ff8ac4bb17",
   "outputs": [
    {
     "data": {
      "text/plain": [
       "shape: (9, 6)\n",
       "┌────────────┬───────────────┬───────────────────┬───────────────────┬──────────────┬──────────────┐\n",
       "│ statistic  ┆ app_id        ┆ app_name          ┆ review_text       ┆ review_score ┆ review_votes │\n",
       "│ ---        ┆ ---           ┆ ---               ┆ ---               ┆ ---          ┆ ---          │\n",
       "│ str        ┆ f64           ┆ str               ┆ str               ┆ f64          ┆ f64          │\n",
       "╞════════════╪═══════════════╪═══════════════════╪═══════════════════╪══════════════╪══════════════╡\n",
       "│ count      ┆ 6.226728e6    ┆ 6226728           ┆ 6226728           ┆ 6.226728e6   ┆ 6.226728e6   │\n",
       "│ null_count ┆ 0.0           ┆ 0                 ┆ 0                 ┆ 0.0          ┆ 0.0          │\n",
       "│ mean       ┆ 226694.093372 ┆ null              ┆ null              ┆ 0.646493     ┆ 0.14673      │\n",
       "│ std        ┆ 125466.779858 ┆ null              ┆ null              ┆ 0.76292      ┆ 0.353837     │\n",
       "│ min        ┆ 10.0          ┆ 神明的一天世界-Go ┆ \u0003I implore you to ┆ -1.0         ┆ 0.0          │\n",
       "│            ┆               ┆ d's One Day World ┆ get a little…     ┆              ┆              │\n",
       "│ 25%        ┆ 201810.0      ┆ null              ┆ null              ┆ 1.0          ┆ 0.0          │\n",
       "│ 50%        ┆ 239140.0      ┆ null              ┆ null              ┆ 1.0          ┆ 0.0          │\n",
       "│ 75%        ┆ 304460.0      ┆ null              ┆ null              ┆ 1.0          ┆ 0.0          │\n",
       "│ max        ┆ 563430.0      ┆ 拯救大魔王2       ┆ 󠀁󠀁󠀁󠀁󠀁                  ┆ 1.0          ┆ 1.0          │\n",
       "│            ┆               ┆ Rescue the Great  ┆                   ┆              ┆              │\n",
       "│            ┆               ┆ Demon …           ┆                   ┆              ┆              │\n",
       "└────────────┴───────────────┴───────────────────┴───────────────────┴──────────────┴──────────────┘"
      ],
      "text/html": [
       "<div><style>\n",
       ".dataframe > thead > tr,\n",
       ".dataframe > tbody > tr {\n",
       "  text-align: right;\n",
       "  white-space: pre-wrap;\n",
       "}\n",
       "</style>\n",
       "<small>shape: (9, 6)</small><table border=\"1\" class=\"dataframe\"><thead><tr><th>statistic</th><th>app_id</th><th>app_name</th><th>review_text</th><th>review_score</th><th>review_votes</th></tr><tr><td>str</td><td>f64</td><td>str</td><td>str</td><td>f64</td><td>f64</td></tr></thead><tbody><tr><td>&quot;count&quot;</td><td>6.226728e6</td><td>&quot;6226728&quot;</td><td>&quot;6226728&quot;</td><td>6.226728e6</td><td>6.226728e6</td></tr><tr><td>&quot;null_count&quot;</td><td>0.0</td><td>&quot;0&quot;</td><td>&quot;0&quot;</td><td>0.0</td><td>0.0</td></tr><tr><td>&quot;mean&quot;</td><td>226694.093372</td><td>null</td><td>null</td><td>0.646493</td><td>0.14673</td></tr><tr><td>&quot;std&quot;</td><td>125466.779858</td><td>null</td><td>null</td><td>0.76292</td><td>0.353837</td></tr><tr><td>&quot;min&quot;</td><td>10.0</td><td>&quot; 神明的一天世界-God&#x27;s One Day World&quot;</td><td>&quot;\u0003I implore you to get a little…</td><td>-1.0</td><td>0.0</td></tr><tr><td>&quot;25%&quot;</td><td>201810.0</td><td>null</td><td>null</td><td>1.0</td><td>0.0</td></tr><tr><td>&quot;50%&quot;</td><td>239140.0</td><td>null</td><td>null</td><td>1.0</td><td>0.0</td></tr><tr><td>&quot;75%&quot;</td><td>304460.0</td><td>null</td><td>null</td><td>1.0</td><td>0.0</td></tr><tr><td>&quot;max&quot;</td><td>563430.0</td><td>&quot;拯救大魔王2 Rescue the Great Demon …</td><td>&quot;󠀁󠀁󠀁󠀁󠀁&quot;</td><td>1.0</td><td>1.0</td></tr></tbody></table></div>"
      ]
     },
     "execution_count": 6,
     "metadata": {},
     "output_type": "execute_result"
    }
   ],
   "execution_count": 6
  },
  {
   "metadata": {
    "ExecuteTime": {
     "end_time": "2025-10-23T21:41:59.289536Z",
     "start_time": "2025-10-23T21:41:58.669075Z"
    }
   },
   "cell_type": "code",
   "source": [
    "min_count = data.group_by('review_score').count().min().select('count').item()\n",
    "\n",
    "print(f\"\\nEl tamaño de la clase más pequeña es: {min_count}\")\n",
    "\n",
    "# 2. Filtrar el DataFrame para balancearlo (submuestreo)\n",
    "df = data.filter(\n",
    "    pl.arange(0, pl.len()).shuffle().over('review_score') < min_count\n",
    ")\n",
    "\n",
    "print(\"\\n--- Conteo del DataFrame Balanceado ---\")\n",
    "print(df['review_score'].value_counts(sort=True))\n",
    "\n",
    "print(\"\\n--- DataFrame Balanceado Resultante ---\")\n",
    "df.head()"
   ],
   "id": "f58cac323f498e77",
   "outputs": [
    {
     "name": "stdout",
     "output_type": "stream",
     "text": [
      "\n",
      "El tamaño de la clase más pequeña es: 1100596\n"
     ]
    },
    {
     "name": "stderr",
     "output_type": "stream",
     "text": [
      "/tmp/ipykernel_13211/441806237.py:1: DeprecationWarning: `GroupBy.count` was renamed; use `GroupBy.len` instead\n",
      "  min_count = data.group_by('review_score').count().min().select('count').item()\n"
     ]
    },
    {
     "name": "stdout",
     "output_type": "stream",
     "text": [
      "\n",
      "--- Conteo del DataFrame Balanceado ---\n",
      "shape: (2, 2)\n",
      "┌──────────────┬─────────┐\n",
      "│ review_score ┆ count   │\n",
      "│ ---          ┆ ---     │\n",
      "│ i64          ┆ u32     │\n",
      "╞══════════════╪═════════╡\n",
      "│ 1            ┆ 1100596 │\n",
      "│ -1           ┆ 1100596 │\n",
      "└──────────────┴─────────┘\n",
      "\n",
      "--- DataFrame Balanceado Resultante ---\n"
     ]
    },
    {
     "data": {
      "text/plain": [
       "shape: (5, 5)\n",
       "┌────────┬────────────────┬─────────────────────────────────┬──────────────┬──────────────┐\n",
       "│ app_id ┆ app_name       ┆ review_text                     ┆ review_score ┆ review_votes │\n",
       "│ ---    ┆ ---            ┆ ---                             ┆ ---          ┆ ---          │\n",
       "│ i64    ┆ str            ┆ str                             ┆ i64          ┆ i64          │\n",
       "╞════════╪════════════════╪═════════════════════════════════╪══════════════╪══════════════╡\n",
       "│ 10     ┆ Counter-Strike ┆         Easy to learn, hard to… ┆ 1            ┆ 1            │\n",
       "│ 10     ┆ Counter-Strike ┆ Counter-Strike: Ok, after 9 ye… ┆ 1            ┆ 1            │\n",
       "│ 10     ┆ Counter-Strike ┆ Every server is spanish or fre… ┆ 1            ┆ 0            │\n",
       "│ 10     ┆ Counter-Strike ┆ Fire in the Hole Simulator 199… ┆ 1            ┆ 0            │\n",
       "│ 10     ┆ Counter-Strike ┆ WARNING : DO NOT buy this game… ┆ 1            ┆ 1            │\n",
       "└────────┴────────────────┴─────────────────────────────────┴──────────────┴──────────────┘"
      ],
      "text/html": [
       "<div><style>\n",
       ".dataframe > thead > tr,\n",
       ".dataframe > tbody > tr {\n",
       "  text-align: right;\n",
       "  white-space: pre-wrap;\n",
       "}\n",
       "</style>\n",
       "<small>shape: (5, 5)</small><table border=\"1\" class=\"dataframe\"><thead><tr><th>app_id</th><th>app_name</th><th>review_text</th><th>review_score</th><th>review_votes</th></tr><tr><td>i64</td><td>str</td><td>str</td><td>i64</td><td>i64</td></tr></thead><tbody><tr><td>10</td><td>&quot;Counter-Strike&quot;</td><td>&quot;&nbsp;&nbsp;&nbsp;&nbsp;&nbsp;&nbsp;&nbsp;&nbsp;Easy to learn, hard to…</td><td>1</td><td>1</td></tr><tr><td>10</td><td>&quot;Counter-Strike&quot;</td><td>&quot;Counter-Strike: Ok, after 9 ye…</td><td>1</td><td>1</td></tr><tr><td>10</td><td>&quot;Counter-Strike&quot;</td><td>&quot;Every server is spanish or fre…</td><td>1</td><td>0</td></tr><tr><td>10</td><td>&quot;Counter-Strike&quot;</td><td>&quot;Fire in the Hole Simulator 199…</td><td>1</td><td>0</td></tr><tr><td>10</td><td>&quot;Counter-Strike&quot;</td><td>&quot;WARNING : DO NOT buy this game…</td><td>1</td><td>1</td></tr></tbody></table></div>"
      ]
     },
     "execution_count": 7,
     "metadata": {},
     "output_type": "execute_result"
    }
   ],
   "execution_count": 7
  },
  {
   "metadata": {
    "ExecuteTime": {
     "end_time": "2025-10-23T22:15:22.307964Z",
     "start_time": "2025-10-23T22:15:21.513786Z"
    }
   },
   "cell_type": "code",
   "source": [
    "df1 = df.with_columns(\n",
    "    review_len = pl.col(\"review_text\").fill_null(\"\").str.split(\" \").list.len()\n",
    ")\n",
    "\n",
    "df1"
   ],
   "id": "741134945e583dd3",
   "outputs": [
    {
     "data": {
      "text/plain": [
       "shape: (2_201_192, 6)\n",
       "┌────────┬────────────────┬─────────────────────────────┬──────────────┬──────────────┬────────────┐\n",
       "│ app_id ┆ app_name       ┆ review_text                 ┆ review_score ┆ review_votes ┆ review_len │\n",
       "│ ---    ┆ ---            ┆ ---                         ┆ ---          ┆ ---          ┆ ---        │\n",
       "│ i64    ┆ str            ┆ str                         ┆ i64          ┆ i64          ┆ u32        │\n",
       "╞════════╪════════════════╪═════════════════════════════╪══════════════╪══════════════╪════════════╡\n",
       "│ 10     ┆ Counter-Strike ┆ Easy to learn, hard to…     ┆ 1            ┆ 1            ┆ 24         │\n",
       "│ 10     ┆ Counter-Strike ┆ Counter-Strike: Ok, after 9 ┆ 1            ┆ 1            ┆ 174        │\n",
       "│        ┆                ┆ ye…                         ┆              ┆              ┆            │\n",
       "│ 10     ┆ Counter-Strike ┆ Every server is spanish or  ┆ 1            ┆ 0            ┆ 15         │\n",
       "│        ┆                ┆ fre…                        ┆              ┆              ┆            │\n",
       "│ 10     ┆ Counter-Strike ┆ Fire in the Hole Simulator  ┆ 1            ┆ 0            ┆ 6          │\n",
       "│        ┆                ┆ 199…                        ┆              ┆              ┆            │\n",
       "│ 10     ┆ Counter-Strike ┆ WARNING : DO NOT buy this   ┆ 1            ┆ 1            ┆ 17         │\n",
       "│        ┆                ┆ game…                       ┆              ┆              ┆            │\n",
       "│ …      ┆ …              ┆ …                           ┆ …            ┆ …            ┆ …          │\n",
       "│ 99910  ┆ Puzzle Pirates ┆ I really ove this game but  ┆ -1           ┆ 0            ┆ 104        │\n",
       "│        ┆                ┆ it …                        ┆              ┆              ┆            │\n",
       "│ 99910  ┆ Puzzle Pirates ┆ Used to play Puzzel Pirates ┆ -1           ┆ 0            ┆ 89         │\n",
       "│        ┆                ┆ 'w…                         ┆              ┆              ┆            │\n",
       "│ 99910  ┆ Puzzle Pirates ┆ This game was aright,       ┆ -1           ┆ 0            ┆ 57         │\n",
       "│        ┆                ┆ though a…                   ┆              ┆              ┆            │\n",
       "│ 99910  ┆ Puzzle Pirates ┆ I had a nice review to      ┆ -1           ┆ 0            ┆ 65         │\n",
       "│        ┆                ┆ recomme…                    ┆              ┆              ┆            │\n",
       "│ 99910  ┆ Puzzle Pirates ┆ The puzzles in this game    ┆ -1           ┆ 0            ┆ 101        │\n",
       "│        ┆                ┆ are f…                      ┆              ┆              ┆            │\n",
       "└────────┴────────────────┴─────────────────────────────┴──────────────┴──────────────┴────────────┘"
      ],
      "text/html": [
       "<div><style>\n",
       ".dataframe > thead > tr,\n",
       ".dataframe > tbody > tr {\n",
       "  text-align: right;\n",
       "  white-space: pre-wrap;\n",
       "}\n",
       "</style>\n",
       "<small>shape: (2_201_192, 6)</small><table border=\"1\" class=\"dataframe\"><thead><tr><th>app_id</th><th>app_name</th><th>review_text</th><th>review_score</th><th>review_votes</th><th>review_len</th></tr><tr><td>i64</td><td>str</td><td>str</td><td>i64</td><td>i64</td><td>u32</td></tr></thead><tbody><tr><td>10</td><td>&quot;Counter-Strike&quot;</td><td>&quot;&nbsp;&nbsp;&nbsp;&nbsp;&nbsp;&nbsp;&nbsp;&nbsp;Easy to learn, hard to…</td><td>1</td><td>1</td><td>24</td></tr><tr><td>10</td><td>&quot;Counter-Strike&quot;</td><td>&quot;Counter-Strike: Ok, after 9 ye…</td><td>1</td><td>1</td><td>174</td></tr><tr><td>10</td><td>&quot;Counter-Strike&quot;</td><td>&quot;Every server is spanish or fre…</td><td>1</td><td>0</td><td>15</td></tr><tr><td>10</td><td>&quot;Counter-Strike&quot;</td><td>&quot;Fire in the Hole Simulator 199…</td><td>1</td><td>0</td><td>6</td></tr><tr><td>10</td><td>&quot;Counter-Strike&quot;</td><td>&quot;WARNING : DO NOT buy this game…</td><td>1</td><td>1</td><td>17</td></tr><tr><td>&hellip;</td><td>&hellip;</td><td>&hellip;</td><td>&hellip;</td><td>&hellip;</td><td>&hellip;</td></tr><tr><td>99910</td><td>&quot;Puzzle Pirates&quot;</td><td>&quot;I really ove this game but it …</td><td>-1</td><td>0</td><td>104</td></tr><tr><td>99910</td><td>&quot;Puzzle Pirates&quot;</td><td>&quot;Used to play Puzzel Pirates &#x27;w…</td><td>-1</td><td>0</td><td>89</td></tr><tr><td>99910</td><td>&quot;Puzzle Pirates&quot;</td><td>&quot;This game was aright, though a…</td><td>-1</td><td>0</td><td>57</td></tr><tr><td>99910</td><td>&quot;Puzzle Pirates&quot;</td><td>&quot;I had a nice review to recomme…</td><td>-1</td><td>0</td><td>65</td></tr><tr><td>99910</td><td>&quot;Puzzle Pirates&quot;</td><td>&quot;The puzzles in this game are f…</td><td>-1</td><td>0</td><td>101</td></tr></tbody></table></div>"
      ]
     },
     "execution_count": 21,
     "metadata": {},
     "output_type": "execute_result"
    }
   ],
   "execution_count": 21
  },
  {
   "metadata": {
    "ExecuteTime": {
     "end_time": "2025-10-23T22:15:37.381435Z",
     "start_time": "2025-10-23T22:15:30.601392Z"
    }
   },
   "cell_type": "code",
   "source": [
    "review_lens = df1[\"review_len\"].to_list()\n",
    "\n",
    "# Crear el histograma\n",
    "plt.figure(figsize=(10, 5))\n",
    "plt.hist(review_lens, bins=30, edgecolor='black')\n",
    "plt.title(\"Distribución de la longitud de reseñas\")\n",
    "plt.xlabel(\"Número de palabras\")\n",
    "plt.ylabel(\"Frecuencia\")\n",
    "plt.show()\n",
    "\n",
    "# Crear el boxplot\n",
    "plt.figure(figsize=(6, 4))\n",
    "plt.boxplot(review_lens, vert=True)\n",
    "plt.title(\"Boxplot de longitud de reseñas\")\n",
    "plt.ylabel(\"Número de palabras\")\n",
    "plt.show()"
   ],
   "id": "56ae85b0134b5d00",
   "outputs": [
    {
     "data": {
      "text/plain": [
       "<Figure size 1000x500 with 1 Axes>"
      ],
      "image/png": "[encoded data removed]"
     },
     "metadata": {},
     "output_type": "display_data",
     "jetTransient": {
      "display_id": null
     }
    },
    {
     "data": {
      "text/plain": [
       "<Figure size 600x400 with 1 Axes>"
      ],
      "image/png": "[encoded data removed]"
     },
     "metadata": {},
     "output_type": "display_data",
     "jetTransient": {
      "display_id": null
     }
    }
   ],
   "execution_count": 22
  },
  {
   "metadata": {
    "ExecuteTime": {
     "end_time": "2025-10-23T22:15:46.460023Z",
     "start_time": "2025-10-23T22:15:46.396280Z"
    }
   },
   "cell_type": "code",
   "source": [
    "lengths = df1[\"review_len\"].to_numpy()\n",
    "p95 = np.percentile(lengths, 95)\n",
    "p96 = np.percentile(lengths, 96)\n",
    "p97 = np.percentile(lengths, 97)\n",
    "p98 = np.percentile(lengths, 98)\n",
    "p99 = np.percentile(lengths, 99)\n",
    "\n",
    "print(\"Percentil 95:\", p95)\n",
    "print(\"Percentil 96:\", p96)\n",
    "print(\"Percentil 97:\", p97)\n",
    "print(\"Percentil 98:\", p98)\n",
    "print(\"Percentil 99:\", p99)"
   ],
   "id": "3ce8374a7c2b4100",
   "outputs": [
    {
     "name": "stdout",
     "output_type": "stream",
     "text": [
      "Percentil 95: 257.0\n",
      "Percentil 96: 296.0\n",
      "Percentil 97: 350.0\n",
      "Percentil 98: 433.0\n",
      "Percentil 99: 597.0\n"
     ]
    }
   ],
   "execution_count": 23
  },
  {
   "metadata": {
    "ExecuteTime": {
     "end_time": "2025-10-23T22:23:35.872390Z",
     "start_time": "2025-10-23T22:23:35.053528Z"
    }
   },
   "cell_type": "code",
   "source": [
    "df1.write_csv(\"~/PycharmProjects/explanaible-steam-nlp/data/Datos_Balanceados.csv\", separator=\";\")\n",
    "df1.shape"
   ],
   "id": "70b7616786ce90ca",
   "outputs": [
    {
     "data": {
      "text/plain": [
       "(2201192, 6)"
      ]
     },
     "execution_count": 24,
     "metadata": {},
     "output_type": "execute_result"
    }
   ],
   "execution_count": 24
  },
  {
   "metadata": {
    "ExecuteTime": {
     "end_time": "2025-10-23T22:23:38.635362Z",
     "start_time": "2025-10-23T22:23:37.922105Z"
    }
   },
   "cell_type": "code",
   "source": [
    "# Columnas necesarias para el modelo\n",
    "columnas_modelo = [\"review_text\", \"review_score\"]\n",
    "df1.select(columnas_modelo).write_csv(\"~/PycharmProjects/explanaible-steam-nlp/data/Datos_Modelo.csv\")\n",
    "df1.select(columnas_modelo).shape"
   ],
   "id": "b2637e5b17f30c34",
   "outputs": [
    {
     "data": {
      "text/plain": [
       "(2201192, 2)"
      ]
     },
     "execution_count": 25,
     "metadata": {},
     "output_type": "execute_result"
    }
   ],
   "execution_count": 25
  }
 ],
 "metadata": {
  "kernelspec": {
   "display_name": "Python 3",
   "language": "python",
   "name": "python3"
  },
  "language_info": {
   "codemirror_mode": {
    "name": "ipython",
    "version": 2
   },
   "file_extension": ".py",
   "mimetype": "text/x-python",
   "name": "python",
   "nbconvert_exporter": "python",
   "pygments_lexer": "ipython2",
   "version": "2.7.6"
  }
 },
 "nbformat": 4,
 "nbformat_minor": 5
}
