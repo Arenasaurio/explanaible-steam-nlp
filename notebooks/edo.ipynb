{
 "cells": [
  {
   "cell_type": "code",
   "id": "initial_id",
   "metadata": {
    "collapsed": true,
    "ExecuteTime": {
     "end_time": "2025-10-22T19:24:33.478643Z",
     "start_time": "2025-10-22T19:24:33.314550Z"
    }
   },
   "source": "import polars as pl",
   "outputs": [],
   "execution_count": 1
  },
  {
   "metadata": {
    "ExecuteTime": {
     "end_time": "2025-10-22T19:24:41.568525Z",
     "start_time": "2025-10-22T19:24:39.575708Z"
    }
   },
   "cell_type": "code",
   "source": "data = pl.read_csv(\"~/PycharmProjects/explanaible-steam-nlp/data/dataset.csv\")",
   "id": "8cc7ce9b0b137fe3",
   "outputs": [],
   "execution_count": 2
  },
  {
   "metadata": {
    "ExecuteTime": {
     "end_time": "2025-10-22T18:18:16.055636Z",
     "start_time": "2025-10-22T18:18:16.048061Z"
    }
   },
   "cell_type": "code",
   "source": "data.schema",
   "id": "488494e97b30b4a8",
   "outputs": [
    {
     "data": {
      "text/plain": [
       "Schema([('app_id', Int64),\n",
       "        ('app_name', String),\n",
       "        ('review_text', String),\n",
       "        ('review_score', Int64),\n",
       "        ('review_votes', Int64)])"
      ]
     },
     "execution_count": 14,
     "metadata": {},
     "output_type": "execute_result"
    }
   ],
   "execution_count": 14
  },
  {
   "metadata": {
    "ExecuteTime": {
     "end_time": "2025-10-22T18:28:34.253621Z",
     "start_time": "2025-10-22T18:28:33.941895Z"
    }
   },
   "cell_type": "code",
   "source": "data.describe()",
   "id": "928bccd61bc9f720",
   "outputs": [
    {
     "data": {
      "text/plain": [
       "shape: (9, 6)\n",
       "┌────────────┬───────────────┬───────────────────┬───────────────────┬──────────────┬──────────────┐\n",
       "│ statistic  ┆ app_id        ┆ app_name          ┆ review_text       ┆ review_score ┆ review_votes │\n",
       "│ ---        ┆ ---           ┆ ---               ┆ ---               ┆ ---          ┆ ---          │\n",
       "│ str        ┆ f64           ┆ str               ┆ str               ┆ f64          ┆ f64          │\n",
       "╞════════════╪═══════════════╪═══════════════════╪═══════════════════╪══════════════╪══════════════╡\n",
       "│ count      ┆ 6.417106e6    ┆ 6233872           ┆ 6409801           ┆ 6.417106e6   ┆ 6.417106e6   │\n",
       "│ null_count ┆ 0.0           ┆ 183234            ┆ 7305              ┆ 0.0          ┆ 0.0          │\n",
       "│ mean       ┆ 227469.499959 ┆ null              ┆ null              ┆ 0.639499     ┆ 0.147245     │\n",
       "│ std        ┆ 126045.06578  ┆ null              ┆ null              ┆ 0.768792     ┆ 0.35435      │\n",
       "│ min        ┆ 10.0          ┆ 神明的一天世界-Go ┆ \u0003I implore you to ┆ -1.0         ┆ 0.0          │\n",
       "│            ┆               ┆ d's One Day World ┆ get a little…     ┆              ┆              │\n",
       "│ 25%        ┆ 201810.0      ┆ null              ┆ null              ┆ 1.0          ┆ 0.0          │\n",
       "│ 50%        ┆ 239160.0      ┆ null              ┆ null              ┆ 1.0          ┆ 0.0          │\n",
       "│ 75%        ┆ 305620.0      ┆ null              ┆ null              ┆ 1.0          ┆ 0.0          │\n",
       "│ max        ┆ 565340.0      ┆ 拯救大魔王2       ┆ 󠀁󠀁󠀁󠀁󠀁                  ┆ 1.0          ┆ 1.0          │\n",
       "│            ┆               ┆ Rescue the Great  ┆                   ┆              ┆              │\n",
       "│            ┆               ┆ Demon …           ┆                   ┆              ┆              │\n",
       "└────────────┴───────────────┴───────────────────┴───────────────────┴──────────────┴──────────────┘"
      ],
      "text/html": [
       "<div><style>\n",
       ".dataframe > thead > tr,\n",
       ".dataframe > tbody > tr {\n",
       "  text-align: right;\n",
       "  white-space: pre-wrap;\n",
       "}\n",
       "</style>\n",
       "<small>shape: (9, 6)</small><table border=\"1\" class=\"dataframe\"><thead><tr><th>statistic</th><th>app_id</th><th>app_name</th><th>review_text</th><th>review_score</th><th>review_votes</th></tr><tr><td>str</td><td>f64</td><td>str</td><td>str</td><td>f64</td><td>f64</td></tr></thead><tbody><tr><td>&quot;count&quot;</td><td>6.417106e6</td><td>&quot;6233872&quot;</td><td>&quot;6409801&quot;</td><td>6.417106e6</td><td>6.417106e6</td></tr><tr><td>&quot;null_count&quot;</td><td>0.0</td><td>&quot;183234&quot;</td><td>&quot;7305&quot;</td><td>0.0</td><td>0.0</td></tr><tr><td>&quot;mean&quot;</td><td>227469.499959</td><td>null</td><td>null</td><td>0.639499</td><td>0.147245</td></tr><tr><td>&quot;std&quot;</td><td>126045.06578</td><td>null</td><td>null</td><td>0.768792</td><td>0.35435</td></tr><tr><td>&quot;min&quot;</td><td>10.0</td><td>&quot; 神明的一天世界-God&#x27;s One Day World&quot;</td><td>&quot;\u0003I implore you to get a little…</td><td>-1.0</td><td>0.0</td></tr><tr><td>&quot;25%&quot;</td><td>201810.0</td><td>null</td><td>null</td><td>1.0</td><td>0.0</td></tr><tr><td>&quot;50%&quot;</td><td>239160.0</td><td>null</td><td>null</td><td>1.0</td><td>0.0</td></tr><tr><td>&quot;75%&quot;</td><td>305620.0</td><td>null</td><td>null</td><td>1.0</td><td>0.0</td></tr><tr><td>&quot;max&quot;</td><td>565340.0</td><td>&quot;拯救大魔王2 Rescue the Great Demon …</td><td>&quot;󠀁󠀁󠀁󠀁󠀁&quot;</td><td>1.0</td><td>1.0</td></tr></tbody></table></div>"
      ]
     },
     "execution_count": 18,
     "metadata": {},
     "output_type": "execute_result"
    }
   ],
   "execution_count": 18
  },
  {
   "metadata": {},
   "cell_type": "markdown",
   "source": [
    "# Eliminar Nulos\n",
    "Eliminamos los nulos debido a que son las colummnas que contienen texto, es decir, no se pueden imputar de una manera sencilla para este analísis"
   ],
   "id": "163d0fd3582a8621"
  },
  {
   "metadata": {
    "ExecuteTime": {
     "end_time": "2025-10-22T19:24:46.232001Z",
     "start_time": "2025-10-22T19:24:45.851891Z"
    }
   },
   "cell_type": "code",
   "source": [
    "data = data.drop_nulls()\n",
    "data.describe()"
   ],
   "id": "dc6a13ff8ac4bb17",
   "outputs": [
    {
     "data": {
      "text/plain": [
       "shape: (9, 6)\n",
       "┌────────────┬───────────────┬───────────────────┬───────────────────┬──────────────┬──────────────┐\n",
       "│ statistic  ┆ app_id        ┆ app_name          ┆ review_text       ┆ review_score ┆ review_votes │\n",
       "│ ---        ┆ ---           ┆ ---               ┆ ---               ┆ ---          ┆ ---          │\n",
       "│ str        ┆ f64           ┆ str               ┆ str               ┆ f64          ┆ f64          │\n",
       "╞════════════╪═══════════════╪═══════════════════╪═══════════════════╪══════════════╪══════════════╡\n",
       "│ count      ┆ 6.226728e6    ┆ 6226728           ┆ 6226728           ┆ 6.226728e6   ┆ 6.226728e6   │\n",
       "│ null_count ┆ 0.0           ┆ 0                 ┆ 0                 ┆ 0.0          ┆ 0.0          │\n",
       "│ mean       ┆ 226694.093372 ┆ null              ┆ null              ┆ 0.646493     ┆ 0.14673      │\n",
       "│ std        ┆ 125466.779858 ┆ null              ┆ null              ┆ 0.76292      ┆ 0.353837     │\n",
       "│ min        ┆ 10.0          ┆ 神明的一天世界-Go ┆ \u0003I implore you to ┆ -1.0         ┆ 0.0          │\n",
       "│            ┆               ┆ d's One Day World ┆ get a little…     ┆              ┆              │\n",
       "│ 25%        ┆ 201810.0      ┆ null              ┆ null              ┆ 1.0          ┆ 0.0          │\n",
       "│ 50%        ┆ 239140.0      ┆ null              ┆ null              ┆ 1.0          ┆ 0.0          │\n",
       "│ 75%        ┆ 304460.0      ┆ null              ┆ null              ┆ 1.0          ┆ 0.0          │\n",
       "│ max        ┆ 563430.0      ┆ 拯救大魔王2       ┆ 󠀁󠀁󠀁󠀁󠀁                  ┆ 1.0          ┆ 1.0          │\n",
       "│            ┆               ┆ Rescue the Great  ┆                   ┆              ┆              │\n",
       "│            ┆               ┆ Demon …           ┆                   ┆              ┆              │\n",
       "└────────────┴───────────────┴───────────────────┴───────────────────┴──────────────┴──────────────┘"
      ],
      "text/html": [
       "<div><style>\n",
       ".dataframe > thead > tr,\n",
       ".dataframe > tbody > tr {\n",
       "  text-align: right;\n",
       "  white-space: pre-wrap;\n",
       "}\n",
       "</style>\n",
       "<small>shape: (9, 6)</small><table border=\"1\" class=\"dataframe\"><thead><tr><th>statistic</th><th>app_id</th><th>app_name</th><th>review_text</th><th>review_score</th><th>review_votes</th></tr><tr><td>str</td><td>f64</td><td>str</td><td>str</td><td>f64</td><td>f64</td></tr></thead><tbody><tr><td>&quot;count&quot;</td><td>6.226728e6</td><td>&quot;6226728&quot;</td><td>&quot;6226728&quot;</td><td>6.226728e6</td><td>6.226728e6</td></tr><tr><td>&quot;null_count&quot;</td><td>0.0</td><td>&quot;0&quot;</td><td>&quot;0&quot;</td><td>0.0</td><td>0.0</td></tr><tr><td>&quot;mean&quot;</td><td>226694.093372</td><td>null</td><td>null</td><td>0.646493</td><td>0.14673</td></tr><tr><td>&quot;std&quot;</td><td>125466.779858</td><td>null</td><td>null</td><td>0.76292</td><td>0.353837</td></tr><tr><td>&quot;min&quot;</td><td>10.0</td><td>&quot; 神明的一天世界-God&#x27;s One Day World&quot;</td><td>&quot;\u0003I implore you to get a little…</td><td>-1.0</td><td>0.0</td></tr><tr><td>&quot;25%&quot;</td><td>201810.0</td><td>null</td><td>null</td><td>1.0</td><td>0.0</td></tr><tr><td>&quot;50%&quot;</td><td>239140.0</td><td>null</td><td>null</td><td>1.0</td><td>0.0</td></tr><tr><td>&quot;75%&quot;</td><td>304460.0</td><td>null</td><td>null</td><td>1.0</td><td>0.0</td></tr><tr><td>&quot;max&quot;</td><td>563430.0</td><td>&quot;拯救大魔王2 Rescue the Great Demon …</td><td>&quot;󠀁󠀁󠀁󠀁󠀁&quot;</td><td>1.0</td><td>1.0</td></tr></tbody></table></div>"
      ]
     },
     "execution_count": 3,
     "metadata": {},
     "output_type": "execute_result"
    }
   ],
   "execution_count": 3
  },
  {
   "metadata": {
    "ExecuteTime": {
     "end_time": "2025-10-22T19:29:40.991990Z",
     "start_time": "2025-10-22T19:29:40.528814Z"
    }
   },
   "cell_type": "code",
   "source": [
    "min_count = data.group_by('review_score').count().min().select('count').item()\n",
    "\n",
    "print(f\"\\nEl tamaño de la clase más pequeña es: {min_count}\")\n",
    "\n",
    "# 2. Filtrar el DataFrame para balancearlo (submuestreo)\n",
    "balanced_df = data.filter(\n",
    "    pl.arange(0, pl.len()).shuffle().over('review_score') < min_count\n",
    ")\n",
    "\n",
    "print(\"\\n--- Conteo del DataFrame Balanceado ---\")\n",
    "print(balanced_df['review_score'].value_counts(sort=True))\n",
    "\n",
    "print(\"\\n--- DataFrame Balanceado Resultante ---\")\n",
    "balanced_df.head()"
   ],
   "id": "f58cac323f498e77",
   "outputs": [
    {
     "name": "stderr",
     "output_type": "stream",
     "text": [
      "/tmp/ipykernel_9706/660707075.py:1: DeprecationWarning: `GroupBy.count` was renamed; use `GroupBy.len` instead\n",
      "  min_count = data.group_by('review_score').count().min().select('count').item()\n"
     ]
    },
    {
     "name": "stdout",
     "output_type": "stream",
     "text": [
      "\n",
      "El tamaño de la clase más pequeña es: 1100596\n",
      "\n",
      "--- Conteo del DataFrame Balanceado ---\n",
      "shape: (2, 2)\n",
      "┌──────────────┬─────────┐\n",
      "│ review_score ┆ count   │\n",
      "│ ---          ┆ ---     │\n",
      "│ i64          ┆ u32     │\n",
      "╞══════════════╪═════════╡\n",
      "│ 1            ┆ 1100596 │\n",
      "│ -1           ┆ 1100596 │\n",
      "└──────────────┴─────────┘\n",
      "\n",
      "--- DataFrame Balanceado Resultante ---\n"
     ]
    },
    {
     "data": {
      "text/plain": [
       "shape: (5, 5)\n",
       "┌────────┬────────────────┬─────────────────────────────────┬──────────────┬──────────────┐\n",
       "│ app_id ┆ app_name       ┆ review_text                     ┆ review_score ┆ review_votes │\n",
       "│ ---    ┆ ---            ┆ ---                             ┆ ---          ┆ ---          │\n",
       "│ i64    ┆ str            ┆ str                             ┆ i64          ┆ i64          │\n",
       "╞════════╪════════════════╪═════════════════════════════════╪══════════════╪══════════════╡\n",
       "│ 10     ┆ Counter-Strike ┆ This will be more of a ''my ex… ┆ 1            ┆ 1            │\n",
       "│ 10     ┆ Counter-Strike ┆ • Do you like original games? … ┆ 1            ┆ 0            │\n",
       "│ 10     ┆ Counter-Strike ┆ Still better than Call of Duty… ┆ 1            ┆ 1            │\n",
       "│ 10     ┆ Counter-Strike ┆ I never played a better first … ┆ 1            ┆ 1            │\n",
       "│ 10     ┆ Counter-Strike ┆ CS is one of the greatest and … ┆ 1            ┆ 1            │\n",
       "└────────┴────────────────┴─────────────────────────────────┴──────────────┴──────────────┘"
      ],
      "text/html": [
       "<div><style>\n",
       ".dataframe > thead > tr,\n",
       ".dataframe > tbody > tr {\n",
       "  text-align: right;\n",
       "  white-space: pre-wrap;\n",
       "}\n",
       "</style>\n",
       "<small>shape: (5, 5)</small><table border=\"1\" class=\"dataframe\"><thead><tr><th>app_id</th><th>app_name</th><th>review_text</th><th>review_score</th><th>review_votes</th></tr><tr><td>i64</td><td>str</td><td>str</td><td>i64</td><td>i64</td></tr></thead><tbody><tr><td>10</td><td>&quot;Counter-Strike&quot;</td><td>&quot;This will be more of a &#x27;&#x27;my ex…</td><td>1</td><td>1</td></tr><tr><td>10</td><td>&quot;Counter-Strike&quot;</td><td>&quot;• Do you like original games? …</td><td>1</td><td>0</td></tr><tr><td>10</td><td>&quot;Counter-Strike&quot;</td><td>&quot;Still better than Call of Duty…</td><td>1</td><td>1</td></tr><tr><td>10</td><td>&quot;Counter-Strike&quot;</td><td>&quot;I never played a better first …</td><td>1</td><td>1</td></tr><tr><td>10</td><td>&quot;Counter-Strike&quot;</td><td>&quot;CS is one of the greatest and …</td><td>1</td><td>1</td></tr></tbody></table></div>"
      ]
     },
     "execution_count": 8,
     "metadata": {},
     "output_type": "execute_result"
    }
   ],
   "execution_count": 8
  }
 ],
 "metadata": {
  "kernelspec": {
   "display_name": "Python 3",
   "language": "python",
   "name": "python3"
  },
  "language_info": {
   "codemirror_mode": {
    "name": "ipython",
    "version": 2
   },
   "file_extension": ".py",
   "mimetype": "text/x-python",
   "name": "python",
   "nbconvert_exporter": "python",
   "pygments_lexer": "ipython2",
   "version": "2.7.6"
  }
 },
 "nbformat": 4,
 "nbformat_minor": 5
}
